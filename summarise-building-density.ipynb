{
 "cells": [
  {
   "cell_type": "markdown",
   "metadata": {},
   "source": [
    "# Summarise building density information\n",
    "\n",
    "Access NISMOD-DB to download building data and summarise regional floor area and footprint density."
   ]
  },
  {
   "cell_type": "code",
   "execution_count": null,
   "metadata": {},
   "outputs": [],
   "source": [
    "import configparser\n",
    "import glob\n",
    "import json\n",
    "import os\n",
    "\n",
    "import pandas\n",
    "import geopandas\n",
    "import requests\n",
    "import shapely.wkt"
   ]
  },
  {
   "cell_type": "code",
   "execution_count": null,
   "metadata": {},
   "outputs": [],
   "source": [
    "def get_auth():    \n",
    "    # Read connection details\n",
    "    if 'NISMOD_API_USER' in os.environ and 'NISMOD_API_PASSWORD' in os.environ:\n",
    "        username = os.environ['NISMOD_API_USER']\n",
    "        password = os.environ['NISMOD_API_PASSWORD']\n",
    "    else:\n",
    "        parser = configparser.ConfigParser()\n",
    "        parser.read('dbconfig.ini')\n",
    "        username = parser['nismod-api']['user']\n",
    "        password = parser['nismod-api']['password']\n",
    "\n",
    "    return (username, password)"
   ]
  },
  {
   "cell_type": "code",
   "execution_count": null,
   "metadata": {},
   "outputs": [],
   "source": [
    "LAD_CODE = 'E06000042'\n",
    "BUILDINGS_YEAR = 2017\n",
    "CACHE_PATH = os.path.join('.', 'db-data')\n",
    "AUTH = get_auth()"
   ]
  },
  {
   "cell_type": "code",
   "execution_count": null,
   "metadata": {},
   "outputs": [],
   "source": [
    "def get_buildings(auth, lad_code, year):\n",
    "    try:\n",
    "        os.mkdir(os.path.join(CACHE_PATH, lad_code))\n",
    "    except FileExistsError:\n",
    "        pass\n",
    "    buildings_file = os.path.join(CACHE_PATH, lad_code, \"buildings_{}.json\".format(lad_code))\n",
    "\n",
    "    if not os.path.exists(buildings_file):\n",
    "        r = requests.get(\n",
    "            'https://www.nismod.ac.uk/api/data/mastermap/buildings',\n",
    "            auth=auth,\n",
    "            params={\n",
    "                'scale': 'lad',\n",
    "                'area_codes': lad_code,\n",
    "                'building_year': year\n",
    "            },\n",
    "            stream=True\n",
    "        )\n",
    "        with open(buildings_file, 'wb') as f:\n",
    "            for chunk in r.iter_content(chunk_size=8192):\n",
    "                if chunk: # filter out keep-alive new chunks\n",
    "                    f.write(chunk)"
   ]
  },
  {
   "cell_type": "code",
   "execution_count": null,
   "metadata": {},
   "outputs": [],
   "source": [
    "get_buildings(AUTH, LAD_CODE, BUILDINGS_YEAR)"
   ]
  },
  {
   "cell_type": "code",
   "execution_count": null,
   "metadata": {},
   "outputs": [],
   "source": [
    "with open(os.path.join(CACHE_PATH, LAD_CODE, \"buildings_{}.json\".format(LAD_CODE))) as fh:\n",
    "    lad_buildings = json.load(fh)\n",
    "lad_buildings"
   ]
  },
  {
   "cell_type": "code",
   "execution_count": null,
   "metadata": {},
   "outputs": [],
   "source": [
    "df = geopandas.GeoDataFrame(lad_buildings)\n",
    "df.geometry = df.geom.apply(lambda wkt: shapely.wkt.loads(wkt))\n",
    "df"
   ]
  },
  {
   "cell_type": "code",
   "execution_count": null,
   "metadata": {},
   "outputs": [],
   "source": [
    "df.columns"
   ]
  },
  {
   "cell_type": "code",
   "execution_count": null,
   "metadata": {},
   "outputs": [],
   "source": [
    "len(df)"
   ]
  },
  {
   "cell_type": "code",
   "execution_count": null,
   "metadata": {},
   "outputs": [],
   "source": [
    "df.oa.unique()"
   ]
  },
  {
   "cell_type": "code",
   "execution_count": null,
   "metadata": {},
   "outputs": [],
   "source": [
    "summary = df[\n",
    "    ['oa', 'mistral_function_class', 'mistral_building_class', 'floor_area', 'footprint_area', 'res_count']\n",
    "].groupby(\n",
    "    ['oa', 'mistral_function_class', 'mistral_building_class']\n",
    ").sum()\n",
    "summary"
   ]
  },
  {
   "cell_type": "code",
   "execution_count": null,
   "metadata": {},
   "outputs": [],
   "source": [
    "summary.to_csv('summary_E06000042.csv')"
   ]
  },
  {
   "cell_type": "code",
   "execution_count": null,
   "metadata": {},
   "outputs": [],
   "source": [
    "df.drop('geom', axis=1).to_csv('buildings_E06000042.csv', index=False)"
   ]
  }
 ],
 "metadata": {
  "kernelspec": {
   "display_name": "Python 3",
   "language": "python",
   "name": "python3"
  },
  "language_info": {
   "codemirror_mode": {
    "name": "ipython",
    "version": 3
   },
   "file_extension": ".py",
   "mimetype": "text/x-python",
   "name": "python",
   "nbconvert_exporter": "python",
   "pygments_lexer": "ipython3",
   "version": "3.6.7"
  }
 },
 "nbformat": 4,
 "nbformat_minor": 2
}
