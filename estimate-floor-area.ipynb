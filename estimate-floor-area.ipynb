{
 "cells": [
  {
   "cell_type": "markdown",
   "metadata": {},
   "source": [
    "# Estimate floor area projections based on GVA and dwellings/households\n",
    "\n",
    "First cut estimate for energy demand model input.\n",
    "\n",
    "Requires inputs:\n",
    "- dwellings scenarios (see `arc-dwellings`)\n",
    "- gva scenarios (see `arc-economics`)"
   ]
  },
  {
   "cell_type": "code",
   "execution_count": null,
   "metadata": {},
   "outputs": [],
   "source": [
    "import glob\n",
    "import os\n",
    "\n",
    "import pandas"
   ]
  },
  {
   "cell_type": "code",
   "execution_count": null,
   "metadata": {},
   "outputs": [],
   "source": [
    "AVERAGE_DWELLING_M2 = 85  # based on average home size\n",
    "AVERAGE_NONRES_M2_PER_MGBP_GVA = 1  # based on no data or estimate - to be used in elasticity-based model"
   ]
  },
  {
   "cell_type": "code",
   "execution_count": null,
   "metadata": {},
   "outputs": [],
   "source": [
    "data_path = os.path.join('.', 'data_as_provided')\n",
    "output_path = os.path.join('.', 'data_processed')"
   ]
  },
  {
   "cell_type": "code",
   "execution_count": null,
   "metadata": {},
   "outputs": [],
   "source": [
    "dwellings_filenames = glob.glob(os.path.join(data_path, 'arc_dwellings__*.csv'))\n",
    "econ_filenames = glob.glob(os.path.join(data_path, 'arc_gva_employment__*.csv'))"
   ]
  },
  {
   "cell_type": "code",
   "execution_count": null,
   "metadata": {},
   "outputs": [],
   "source": [
    "def estimate_floor_area(dwellings, gva):\n",
    "    floor_area = dwellings.merge(gva, on=['timestep', 'lad_uk_2016'])\n",
    "    floor_area['residential'] = floor_area.dwellings * AVERAGE_DWELLING_M2\n",
    "    floor_area['non_residential'] = floor_area.gva * AVERAGE_NONRES_M2_PER_MGBP_GVA\n",
    "    floor_area = floor_area[\n",
    "        ['timestep', 'lad_uk_2016', 'residential' ,'non_residential']\n",
    "    ].melt(\n",
    "        id_vars=['timestep', 'lad_uk_2016'],\n",
    "        var_name='residential_or_non',\n",
    "        value_name='floor_area'\n",
    "    )\n",
    "    \n",
    "    return floor_area"
   ]
  },
  {
   "cell_type": "code",
   "execution_count": null,
   "metadata": {},
   "outputs": [],
   "source": [
    "for d, e in zip(dwellings_filenames, econ_filenames):\n",
    "    d_df = pandas.read_csv(d)\n",
    "    e_df = pandas.read_csv(e)\n",
    "    key = os.path.basename(d).replace('arc_dwellings__', '').replace('.csv', '')\n",
    "    key2 = os.path.basename(e).replace('arc_gva_employment__', '').replace('.csv', '')\n",
    "    assert key == key2\n",
    "    f_df = estimate_floor_area(d_df, e_df)\n",
    "    print(len(f_df), len(f_df.timestep.unique()), len(f_df.lad_uk_2016.unique()))\n",
    "    f_df.to_csv(os.path.join(output_path, 'arc_floor_area__{}.csv'.format(key)), index=False)"
   ]
  },
  {
   "cell_type": "markdown",
   "metadata": {},
   "source": [
    "While we're here - filter dwellings to 2015-2050 only"
   ]
  },
  {
   "cell_type": "code",
   "execution_count": null,
   "metadata": {},
   "outputs": [],
   "source": [
    "for d in dwellings_filenames:\n",
    "    df = pandas.read_csv(d)\n",
    "    key = os.path.basename(d).replace('arc_dwellings__', '').replace('.csv', '')\n",
    "    df = df[(df.timestep >= 2015) & (df.timestep <= 2050)]\n",
    "    df.to_csv(os.path.join(output_path, 'arc_dwellings__{}.csv'.format(key)), index=False)"
   ]
  }
 ],
 "metadata": {
  "kernelspec": {
   "display_name": "Python 3",
   "language": "python",
   "name": "python3"
  },
  "language_info": {
   "codemirror_mode": {
    "name": "ipython",
    "version": 3
   },
   "file_extension": ".py",
   "mimetype": "text/x-python",
   "name": "python",
   "nbconvert_exporter": "python",
   "pygments_lexer": "ipython3",
   "version": "3.6.7"
  }
 },
 "nbformat": 4,
 "nbformat_minor": 2
}
